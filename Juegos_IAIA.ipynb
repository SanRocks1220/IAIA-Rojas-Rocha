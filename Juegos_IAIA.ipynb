{
 "cells": [
  {
   "cell_type": "markdown",
   "id": "54cee132",
   "metadata": {},
   "source": [
    "# IAIA Juegos\n"
   ]
  },
  {
   "cell_type": "markdown",
   "id": "8ae652c1",
   "metadata": {},
   "source": [
    "### Sin Adversarios"
   ]
  },
  {
   "cell_type": "code",
   "execution_count": null,
   "id": "2088ed3a",
   "metadata": {},
   "outputs": [],
   "source": []
  },
  {
   "cell_type": "markdown",
   "id": "2cc25afb",
   "metadata": {},
   "source": [
    "### Con Adversarios\n",
    "#### Triqui\n"
   ]
  },
  {
   "cell_type": "code",
   "execution_count": 64,
   "id": "2a425dd4",
   "metadata": {},
   "outputs": [],
   "source": [
    "class Jugador:\n",
    "    simbolo = \"\"\n",
    "    jugado = False\n",
    "    \n",
    "    def __init__(self, simbolo):\n",
    "        self.simbolo = simbolo\n",
    "    \n",
    "    def print_simbolo(self):\n",
    "        print(self.simbolo)\n",
    "        \n",
    "    def print_jugado(self):\n",
    "        print(self.jugado)\n",
    "    \n",
    "    def __str__(self):\n",
    "        return self.simbolo\n",
    "\n",
    "jugador1 = Jugador(\"x\")\n",
    "jugador2 = Jugador(\"o\")\n",
    "\n",
    "\n",
    "\n",
    "class Estado:\n",
    "    tablero = \"\"\n",
    "    jugador = None\n",
    "    estado = [tablero, jugador]\n",
    "    \n",
    "    def print_tablero(self):\n",
    "        print(self.tablero)\n",
    "         \n",
    "    def print_jugador(self):\n",
    "        print(self.jugador)\n",
    "        \n",
    "    def print_estado(self):\n",
    "        print(str(self.tablero))\n",
    "    \n",
    "    def __str__(self):\n",
    "        impresion = \"[\" + str(self.tablero) + \", [\" + str(self.jugador) + \"]]\"\n",
    "        return impresion\n",
    "\n",
    "    \n",
    "TEstadoInicial = Estado()\n",
    "TEstadoInicial.tablero = [[\"-\", \"-\", \"-\"], [\"-\", \"-\", \"-\"], [\"-\", \"-\", \"-\"]]\n",
    "TEstadoInicial.jugador = jugador1\n",
    "\n",
    "\n",
    "def inicial():\n",
    "    return TEstadoInicial\n",
    "\n",
    "def esFinal(estado):\n",
    "    esFinal = checkWinHorizontal(estado) | checkWinVertical(estado) | checkWinDiagonales(estado)\n",
    "    return esFinal \n",
    "\n",
    "def printJugador(jugador):\n",
    "    print(jugador)\n",
    "    \n",
    "def printEstado(estado):\n",
    "    print(estado)    \n",
    "    \n",
    "def jugador(estado):\n",
    "    return estado.jugador\n",
    "\n",
    "def oponente(jugador):\n",
    "    if jugador.simbolo == \"x\":\n",
    "        return jugador2\n",
    "    else:\n",
    "        return jugador1\n",
    "    "
   ]
  },
  {
   "cell_type": "code",
   "execution_count": 58,
   "id": "02d370ce",
   "metadata": {},
   "outputs": [
    {
     "name": "stdout",
     "output_type": "stream",
     "text": [
      "x\n"
     ]
    }
   ],
   "source": [
    "printJugador(jugador1)"
   ]
  },
  {
   "cell_type": "code",
   "execution_count": 59,
   "id": "a13b34a1",
   "metadata": {},
   "outputs": [
    {
     "name": "stdout",
     "output_type": "stream",
     "text": [
      "o\n"
     ]
    }
   ],
   "source": [
    "printJugador(jugador2)"
   ]
  },
  {
   "cell_type": "code",
   "execution_count": 60,
   "id": "c9541bbe",
   "metadata": {},
   "outputs": [
    {
     "name": "stdout",
     "output_type": "stream",
     "text": [
      "[[['-', '-', '-'], ['-', '-', '-'], ['-', '-', '-']], [x]]\n"
     ]
    }
   ],
   "source": [
    "printEstado(inicial())"
   ]
  },
  {
   "cell_type": "code",
   "execution_count": 61,
   "id": "16653862",
   "metadata": {},
   "outputs": [
    {
     "name": "stdout",
     "output_type": "stream",
     "text": [
      "x\n"
     ]
    }
   ],
   "source": [
    "printJugador(jugador(inicial()))"
   ]
  },
  {
   "cell_type": "code",
   "execution_count": 66,
   "id": "24aa952c",
   "metadata": {},
   "outputs": [
    {
     "name": "stdout",
     "output_type": "stream",
     "text": [
      "o\n"
     ]
    }
   ],
   "source": [
    "printJugador(oponente(jugador(inicial())))"
   ]
  },
  {
   "cell_type": "markdown",
   "id": "8e38d173",
   "metadata": {},
   "source": [
    "---\n",
    "#### Trompo"
   ]
  },
  {
   "cell_type": "code",
   "execution_count": null,
   "id": "40b95353",
   "metadata": {},
   "outputs": [],
   "source": []
  }
 ],
 "metadata": {
  "kernelspec": {
   "display_name": "Python 3",
   "language": "python",
   "name": "python3"
  },
  "language_info": {
   "codemirror_mode": {
    "name": "ipython",
    "version": 3
   },
   "file_extension": ".py",
   "mimetype": "text/x-python",
   "name": "python",
   "nbconvert_exporter": "python",
   "pygments_lexer": "ipython3",
   "version": "3.8.8"
  }
 },
 "nbformat": 4,
 "nbformat_minor": 5
}
